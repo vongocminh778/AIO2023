{
 "cells": [
  {
   "cell_type": "markdown",
   "metadata": {},
   "source": [
    "#### 1. Tải bộ dữ liệu: Các bạn tải bộ dữ liệu breast-cancer.csv tại [đây](https://drive.google.com/file/d/1T4oy9neutVe2egrEcnjhKwAdHJCyDcJ6/view?usp=drive_link)."
   ]
  },
  {
   "cell_type": "code",
   "execution_count": 2,
   "metadata": {},
   "outputs": [
    {
     "name": "stdout",
     "output_type": "stream",
     "text": [
      "Downloading...\n",
      "From: https://drive.google.com/uc?id=1T4oy9neutVe2egrEcnjhKwAdHJCyDcJ6\n",
      "To: /home/minhmap/DATA/2.AIO2023/Code/AIO2023/Module_4/SVM/breast-cancer.csv\n",
      "100%|███████████████████████████████████████| 24.4k/24.4k [00:00<00:00, 710kB/s]\n"
     ]
    }
   ],
   "source": [
    "#https://drive.google.com/file/d/1T4oy9neutVe2egrEcnjhKwAdHJCyDcJ6/view?usp=drive_link\n",
    "!gdown 1T4oy9neutVe2egrEcnjhKwAdHJCyDcJ6"
   ]
  },
  {
   "cell_type": "markdown",
   "metadata": {},
   "source": [
    "#### 2. Import các thư viện cần thiết:"
   ]
  },
  {
   "cell_type": "code",
   "execution_count": 1,
   "metadata": {},
   "outputs": [
    {
     "name": "stderr",
     "output_type": "stream",
     "text": [
      "\n",
      "Bad key \"text.kerning_factor\" on line 4 in\n",
      "/home/minhmap/anaconda3/envs/minh_env/lib/python3.6/site-packages/matplotlib/mpl-data/stylelib/_classic_test_patch.mplstyle.\n",
      "You probably need to get an updated matplotlibrc file from\n",
      "http://github.com/matplotlib/matplotlib/blob/master/matplotlibrc.template\n",
      "or from the matplotlib source distribution\n"
     ]
    }
   ],
   "source": [
    "import numpy as np\n",
    "import pandas as pd # đọc file csv\n",
    "import matplotlib.pyplot as plt # trực quan thư viện\n",
    "\n",
    "from sklearn.svm import SVC # Support Vector Classifier\n",
    "from sklearn.preprocessing import (\n",
    "    StandardScaler, \n",
    "    LabelEncoder, \n",
    "    OneHotEncoder, \n",
    "    OrdinalEncoder\n",
    ")\n",
    "from sklearn.compose import ColumnTransformer\n",
    "from sklearn.model_selection import train_test_split\n",
    "from sklearn.metrics import accuracy_score\n"
   ]
  },
  {
   "cell_type": "markdown",
   "metadata": {},
   "source": [
    "#### 3. Đọc dữ liệu: \n",
    "Sử dụng pandas, ta đọc dữ liệu từ file .csv lên như sau:"
   ]
  },
  {
   "cell_type": "code",
   "execution_count": 2,
   "metadata": {},
   "outputs": [
    {
     "data": {
      "text/html": [
       "<div>\n",
       "<style scoped>\n",
       "    .dataframe tbody tr th:only-of-type {\n",
       "        vertical-align: middle;\n",
       "    }\n",
       "\n",
       "    .dataframe tbody tr th {\n",
       "        vertical-align: top;\n",
       "    }\n",
       "\n",
       "    .dataframe thead th {\n",
       "        text-align: right;\n",
       "    }\n",
       "</style>\n",
       "<table border=\"1\" class=\"dataframe\">\n",
       "  <thead>\n",
       "    <tr style=\"text-align: right;\">\n",
       "      <th></th>\n",
       "      <th>ages</th>\n",
       "      <th>meonpause</th>\n",
       "      <th>tumor-size</th>\n",
       "      <th>inv-nodes</th>\n",
       "      <th>node-caps</th>\n",
       "      <th>deg-malig</th>\n",
       "      <th>breast</th>\n",
       "      <th>breast-quad</th>\n",
       "      <th>irradiat</th>\n",
       "      <th>label</th>\n",
       "    </tr>\n",
       "  </thead>\n",
       "  <tbody>\n",
       "    <tr>\n",
       "      <th>0</th>\n",
       "      <td>'40-49'</td>\n",
       "      <td>'premeno'</td>\n",
       "      <td>'15-19'</td>\n",
       "      <td>'0-2'</td>\n",
       "      <td>'yes'</td>\n",
       "      <td>'3'</td>\n",
       "      <td>'right'</td>\n",
       "      <td>'left_up'</td>\n",
       "      <td>'no'</td>\n",
       "      <td>'recurrence-events'</td>\n",
       "    </tr>\n",
       "    <tr>\n",
       "      <th>1</th>\n",
       "      <td>'50-59'</td>\n",
       "      <td>'ge40'</td>\n",
       "      <td>'15-19'</td>\n",
       "      <td>'0-2'</td>\n",
       "      <td>'no'</td>\n",
       "      <td>'1'</td>\n",
       "      <td>'right'</td>\n",
       "      <td>'central'</td>\n",
       "      <td>'no'</td>\n",
       "      <td>'no-recurrence-events'</td>\n",
       "    </tr>\n",
       "    <tr>\n",
       "      <th>2</th>\n",
       "      <td>'50-59'</td>\n",
       "      <td>'ge40'</td>\n",
       "      <td>'35-39'</td>\n",
       "      <td>'0-2'</td>\n",
       "      <td>'no'</td>\n",
       "      <td>'2'</td>\n",
       "      <td>'left'</td>\n",
       "      <td>'left_low'</td>\n",
       "      <td>'no'</td>\n",
       "      <td>'recurrence-events'</td>\n",
       "    </tr>\n",
       "    <tr>\n",
       "      <th>3</th>\n",
       "      <td>'40-49'</td>\n",
       "      <td>'premeno'</td>\n",
       "      <td>'35-39'</td>\n",
       "      <td>'0-2'</td>\n",
       "      <td>'yes'</td>\n",
       "      <td>'3'</td>\n",
       "      <td>'right'</td>\n",
       "      <td>'left_low'</td>\n",
       "      <td>'yes'</td>\n",
       "      <td>'no-recurrence-events'</td>\n",
       "    </tr>\n",
       "    <tr>\n",
       "      <th>4</th>\n",
       "      <td>'40-49'</td>\n",
       "      <td>'premeno'</td>\n",
       "      <td>'30-34'</td>\n",
       "      <td>'3-5'</td>\n",
       "      <td>'yes'</td>\n",
       "      <td>'2'</td>\n",
       "      <td>'left'</td>\n",
       "      <td>'right_up'</td>\n",
       "      <td>'no'</td>\n",
       "      <td>'recurrence-events'</td>\n",
       "    </tr>\n",
       "    <tr>\n",
       "      <th>...</th>\n",
       "      <td>...</td>\n",
       "      <td>...</td>\n",
       "      <td>...</td>\n",
       "      <td>...</td>\n",
       "      <td>...</td>\n",
       "      <td>...</td>\n",
       "      <td>...</td>\n",
       "      <td>...</td>\n",
       "      <td>...</td>\n",
       "      <td>...</td>\n",
       "    </tr>\n",
       "    <tr>\n",
       "      <th>281</th>\n",
       "      <td>'50-59'</td>\n",
       "      <td>'ge40'</td>\n",
       "      <td>'30-34'</td>\n",
       "      <td>'6-8'</td>\n",
       "      <td>'yes'</td>\n",
       "      <td>'2'</td>\n",
       "      <td>'left'</td>\n",
       "      <td>'left_low'</td>\n",
       "      <td>'no'</td>\n",
       "      <td>'no-recurrence-events'</td>\n",
       "    </tr>\n",
       "    <tr>\n",
       "      <th>282</th>\n",
       "      <td>'50-59'</td>\n",
       "      <td>'premeno'</td>\n",
       "      <td>'25-29'</td>\n",
       "      <td>'3-5'</td>\n",
       "      <td>'yes'</td>\n",
       "      <td>'2'</td>\n",
       "      <td>'left'</td>\n",
       "      <td>'left_low'</td>\n",
       "      <td>'yes'</td>\n",
       "      <td>'no-recurrence-events'</td>\n",
       "    </tr>\n",
       "    <tr>\n",
       "      <th>283</th>\n",
       "      <td>'30-39'</td>\n",
       "      <td>'premeno'</td>\n",
       "      <td>'30-34'</td>\n",
       "      <td>'6-8'</td>\n",
       "      <td>'yes'</td>\n",
       "      <td>'2'</td>\n",
       "      <td>'right'</td>\n",
       "      <td>'right_up'</td>\n",
       "      <td>'no'</td>\n",
       "      <td>'no-recurrence-events'</td>\n",
       "    </tr>\n",
       "    <tr>\n",
       "      <th>284</th>\n",
       "      <td>'50-59'</td>\n",
       "      <td>'premeno'</td>\n",
       "      <td>'15-19'</td>\n",
       "      <td>'0-2'</td>\n",
       "      <td>'no'</td>\n",
       "      <td>'2'</td>\n",
       "      <td>'right'</td>\n",
       "      <td>'left_low'</td>\n",
       "      <td>'no'</td>\n",
       "      <td>'no-recurrence-events'</td>\n",
       "    </tr>\n",
       "    <tr>\n",
       "      <th>285</th>\n",
       "      <td>'50-59'</td>\n",
       "      <td>'ge40'</td>\n",
       "      <td>'40-44'</td>\n",
       "      <td>'0-2'</td>\n",
       "      <td>'no'</td>\n",
       "      <td>'3'</td>\n",
       "      <td>'left'</td>\n",
       "      <td>'right_up'</td>\n",
       "      <td>'no'</td>\n",
       "      <td>'no-recurrence-events'</td>\n",
       "    </tr>\n",
       "  </tbody>\n",
       "</table>\n",
       "<p>286 rows × 10 columns</p>\n",
       "</div>"
      ],
      "text/plain": [
       "        ages  meonpause tumor-size inv-nodes node-caps deg-malig   breast  \\\n",
       "0    '40-49'  'premeno'    '15-19'     '0-2'     'yes'       '3'  'right'   \n",
       "1    '50-59'     'ge40'    '15-19'     '0-2'      'no'       '1'  'right'   \n",
       "2    '50-59'     'ge40'    '35-39'     '0-2'      'no'       '2'   'left'   \n",
       "3    '40-49'  'premeno'    '35-39'     '0-2'     'yes'       '3'  'right'   \n",
       "4    '40-49'  'premeno'    '30-34'     '3-5'     'yes'       '2'   'left'   \n",
       "..       ...        ...        ...       ...       ...       ...      ...   \n",
       "281  '50-59'     'ge40'    '30-34'     '6-8'     'yes'       '2'   'left'   \n",
       "282  '50-59'  'premeno'    '25-29'     '3-5'     'yes'       '2'   'left'   \n",
       "283  '30-39'  'premeno'    '30-34'     '6-8'     'yes'       '2'  'right'   \n",
       "284  '50-59'  'premeno'    '15-19'     '0-2'      'no'       '2'  'right'   \n",
       "285  '50-59'     'ge40'    '40-44'     '0-2'      'no'       '3'   'left'   \n",
       "\n",
       "    breast-quad irradiat                   label  \n",
       "0     'left_up'     'no'     'recurrence-events'  \n",
       "1     'central'     'no'  'no-recurrence-events'  \n",
       "2    'left_low'     'no'     'recurrence-events'  \n",
       "3    'left_low'    'yes'  'no-recurrence-events'  \n",
       "4    'right_up'     'no'     'recurrence-events'  \n",
       "..          ...      ...                     ...  \n",
       "281  'left_low'     'no'  'no-recurrence-events'  \n",
       "282  'left_low'    'yes'  'no-recurrence-events'  \n",
       "283  'right_up'     'no'  'no-recurrence-events'  \n",
       "284  'left_low'     'no'  'no-recurrence-events'  \n",
       "285  'right_up'     'no'  'no-recurrence-events'  \n",
       "\n",
       "[286 rows x 10 columns]"
      ]
     },
     "metadata": {},
     "output_type": "display_data"
    }
   ],
   "source": [
    "dataset_path = \"breast-cancer.csv\"\n",
    "df = pd.read_csv(dataset_path, names=['ages', 'meonpause', 'tumor-size', 'inv-nodes', 'node-caps', 'deg-malig', 'breast', 'breast-quad', 'irradiat', 'label'])\n",
    "display(df)"
   ]
  },
  {
   "cell_type": "code",
   "execution_count": 3,
   "metadata": {},
   "outputs": [
    {
     "name": "stdout",
     "output_type": "stream",
     "text": [
      "<class 'pandas.core.frame.DataFrame'>\n",
      "RangeIndex: 286 entries, 0 to 285\n",
      "Data columns (total 10 columns):\n",
      " #   Column       Non-Null Count  Dtype \n",
      "---  ------       --------------  ----- \n",
      " 0   ages         286 non-null    object\n",
      " 1   meonpause    286 non-null    object\n",
      " 2   tumor-size   286 non-null    object\n",
      " 3   inv-nodes    286 non-null    object\n",
      " 4   node-caps    278 non-null    object\n",
      " 5   deg-malig    286 non-null    object\n",
      " 6   breast       286 non-null    object\n",
      " 7   breast-quad  285 non-null    object\n",
      " 8   irradiat     286 non-null    object\n",
      " 9   label        286 non-null    object\n",
      "dtypes: object(10)\n",
      "memory usage: 22.5+ KB\n"
     ]
    }
   ],
   "source": [
    "df.info()"
   ]
  },
  {
   "cell_type": "markdown",
   "metadata": {},
   "source": [
    "#### 4. Tiền xử lý dữ liệu: \n",
    "Quan sát bộ dữ liệu trên, có thể nhận ra bộ dữ liệu hiện tại có nhiều\n",
    "vấn đề cần chúng ta giải quyết trước khi đưa vào huấn luyện. Trong đó, dễ thấy chúng ta\n",
    "cần phải mã hóa các cột dữ liệu dạng categorical và giải quyết các missing values. Các bước\n",
    "thực hiện như sau:"
   ]
  },
  {
   "cell_type": "markdown",
   "metadata": {},
   "source": [
    "(a) Filling missing values: Từ kết quả df.info() , ta có thể thấy các cột thuộc tính node-\n",
    "caps và breast-quad đang không có đủ 286 non-null values, đồng nghĩa rằng hai cột\n",
    "này đang chứa missing values. Việc giải quyết vấn đề này sẽ có rất nhiều cách, song để\n",
    "đơn giản hóa vấn đề, chúng ta sẽ áp dụng chiến lược khỏa lắp các missing values bằng\n",
    "giá trị xuất hiện nhiều nhất trong cột tương ứng. Ta thực hiện như sau:"
   ]
  },
  {
   "cell_type": "code",
   "execution_count": 4,
   "metadata": {},
   "outputs": [
    {
     "name": "stdout",
     "output_type": "stream",
     "text": [
      "'left_low'\n"
     ]
    }
   ],
   "source": [
    "print(df['breast-quad'].mode()[0])"
   ]
  },
  {
   "cell_type": "code",
   "execution_count": 5,
   "metadata": {},
   "outputs": [],
   "source": [
    "df['node-caps'] = df['node-caps'].fillna(df['node-caps'].mode()[0]) # [0] ??"
   ]
  },
  {
   "cell_type": "code",
   "execution_count": 6,
   "metadata": {},
   "outputs": [],
   "source": [
    "df['breast-quad'] = df['node-caps'].fillna(df['breast-quad'].mode()[0])"
   ]
  },
  {
   "cell_type": "code",
   "execution_count": 7,
   "metadata": {},
   "outputs": [
    {
     "name": "stdout",
     "output_type": "stream",
     "text": [
      "<class 'pandas.core.frame.DataFrame'>\n",
      "RangeIndex: 286 entries, 0 to 285\n",
      "Data columns (total 10 columns):\n",
      " #   Column       Non-Null Count  Dtype \n",
      "---  ------       --------------  ----- \n",
      " 0   ages         286 non-null    object\n",
      " 1   meonpause    286 non-null    object\n",
      " 2   tumor-size   286 non-null    object\n",
      " 3   inv-nodes    286 non-null    object\n",
      " 4   node-caps    286 non-null    object\n",
      " 5   deg-malig    286 non-null    object\n",
      " 6   breast       286 non-null    object\n",
      " 7   breast-quad  286 non-null    object\n",
      " 8   irradiat     286 non-null    object\n",
      " 9   label        286 non-null    object\n",
      "dtypes: object(10)\n",
      "memory usage: 22.5+ KB\n"
     ]
    }
   ],
   "source": [
    "df.info()"
   ]
  },
  {
   "cell_type": "markdown",
   "metadata": {},
   "source": [
    "Ở đoạn code trên, ta sử dụng hàm mode() (các bạn có thể đọc thêm về hàm này tại\n",
    "[đây](https://pandas.pydata.org/docs/reference/api/pandas.DataFrame.mode.html)) để tìm ra giá trị xuất hiện nhiều nhất, sau đó sử dụng hàm fillna() để gán giá trị\n",
    "này vào các ô missing."
   ]
  },
  {
   "cell_type": "markdown",
   "metadata": {},
   "source": [
    "(b) Encode categorical features: Toàn bộ các cột thuộc tính của bộ dữ liệu đều ở dạng\n",
    "categorical. Vì vậy, ta cần mã hóa chúng thành dạng số trước khi đưa vào huấn luyện\n",
    "mô hình. Để thực hành các kiểu encode khác nhau, trong bài này chúng ta sẽ sử dụng cả hai OneHotEncoder() và OrdinalEncoder() cho một số cột thuộc tính khác nhau. Đầu\n",
    "tiên, ta tách các cột features và label thành hai biến riêng:"
   ]
  },
  {
   "cell_type": "code",
   "execution_count": 8,
   "metadata": {},
   "outputs": [],
   "source": [
    "y = df['label']\n",
    "X = df.drop('label', axis=1)"
   ]
  },
  {
   "cell_type": "markdown",
   "metadata": {},
   "source": [
    "Tiếp đến, ta xác định tên các cột sẽ sử dụng OrdinalEncoder() và các cột sẽ sử dụng\n",
    "OneHotEncoder():"
   ]
  },
  {
   "cell_type": "code",
   "execution_count": 10,
   "metadata": {},
   "outputs": [
    {
     "data": {
      "text/html": [
       "<div>\n",
       "<style scoped>\n",
       "    .dataframe tbody tr th:only-of-type {\n",
       "        vertical-align: middle;\n",
       "    }\n",
       "\n",
       "    .dataframe tbody tr th {\n",
       "        vertical-align: top;\n",
       "    }\n",
       "\n",
       "    .dataframe thead th {\n",
       "        text-align: right;\n",
       "    }\n",
       "</style>\n",
       "<table border=\"1\" class=\"dataframe\">\n",
       "  <thead>\n",
       "    <tr style=\"text-align: right;\">\n",
       "      <th></th>\n",
       "      <th>ages</th>\n",
       "      <th>meonpause</th>\n",
       "      <th>tumor-size</th>\n",
       "      <th>inv-nodes</th>\n",
       "      <th>node-caps</th>\n",
       "      <th>deg-malig</th>\n",
       "      <th>breast</th>\n",
       "      <th>breast-quad</th>\n",
       "      <th>irradiat</th>\n",
       "      <th>label</th>\n",
       "    </tr>\n",
       "  </thead>\n",
       "  <tbody>\n",
       "    <tr>\n",
       "      <th>count</th>\n",
       "      <td>286</td>\n",
       "      <td>286</td>\n",
       "      <td>286</td>\n",
       "      <td>286</td>\n",
       "      <td>286</td>\n",
       "      <td>286</td>\n",
       "      <td>286</td>\n",
       "      <td>286</td>\n",
       "      <td>286</td>\n",
       "      <td>286</td>\n",
       "    </tr>\n",
       "    <tr>\n",
       "      <th>unique</th>\n",
       "      <td>6</td>\n",
       "      <td>3</td>\n",
       "      <td>11</td>\n",
       "      <td>7</td>\n",
       "      <td>2</td>\n",
       "      <td>3</td>\n",
       "      <td>2</td>\n",
       "      <td>2</td>\n",
       "      <td>2</td>\n",
       "      <td>2</td>\n",
       "    </tr>\n",
       "    <tr>\n",
       "      <th>top</th>\n",
       "      <td>'50-59'</td>\n",
       "      <td>'premeno'</td>\n",
       "      <td>'30-34'</td>\n",
       "      <td>'0-2'</td>\n",
       "      <td>'no'</td>\n",
       "      <td>'2'</td>\n",
       "      <td>'left'</td>\n",
       "      <td>'no'</td>\n",
       "      <td>'no'</td>\n",
       "      <td>'no-recurrence-events'</td>\n",
       "    </tr>\n",
       "    <tr>\n",
       "      <th>freq</th>\n",
       "      <td>96</td>\n",
       "      <td>150</td>\n",
       "      <td>60</td>\n",
       "      <td>213</td>\n",
       "      <td>230</td>\n",
       "      <td>130</td>\n",
       "      <td>152</td>\n",
       "      <td>230</td>\n",
       "      <td>218</td>\n",
       "      <td>201</td>\n",
       "    </tr>\n",
       "  </tbody>\n",
       "</table>\n",
       "</div>"
      ],
      "text/plain": [
       "           ages  meonpause tumor-size inv-nodes node-caps deg-malig  breast  \\\n",
       "count       286        286        286       286       286       286     286   \n",
       "unique        6          3         11         7         2         3       2   \n",
       "top     '50-59'  'premeno'    '30-34'     '0-2'      'no'       '2'  'left'   \n",
       "freq         96        150         60       213       230       130     152   \n",
       "\n",
       "       breast-quad irradiat                   label  \n",
       "count          286      286                     286  \n",
       "unique           2        2                       2  \n",
       "top           'no'     'no'  'no-recurrence-events'  \n",
       "freq           230      218                     201  "
      ]
     },
     "execution_count": 10,
     "metadata": {},
     "output_type": "execute_result"
    }
   ],
   "source": [
    "df.describe()"
   ]
  },
  {
   "cell_type": "code",
   "execution_count": 12,
   "metadata": {},
   "outputs": [
    {
     "name": "stdout",
     "output_type": "stream",
     "text": [
      "ages: [\"'40-49'\" \"'50-59'\" \"'60-69'\" \"'30-39'\" \"'70-79'\" \"'20-29'\"]\n",
      "meonpause: [\"'premeno'\" \"'ge40'\" \"'lt40'\"]\n",
      "tumor-size: [\"'15-19'\" \"'35-39'\" \"'30-34'\" \"'25-29'\" \"'40-44'\" \"'10-14'\" \"'0-4'\"\n",
      " \"'20-24'\" \"'45-49'\" \"'50-54'\" \"'5-9'\"]\n",
      "inv-nodes: [\"'0-2'\" \"'3-5'\" \"'15-17'\" \"'6-8'\" \"'9-11'\" \"'24-26'\" \"'12-14'\"]\n",
      "node-caps: [\"'yes'\" \"'no'\"]\n",
      "deg-malig: [\"'3'\" \"'1'\" \"'2'\"]\n",
      "breast: [\"'right'\" \"'left'\"]\n",
      "breast-quad: [\"'yes'\" \"'no'\"]\n",
      "irradiat: [\"'no'\" \"'yes'\"]\n",
      "label: [\"'recurrence-events'\" \"'no-recurrence-events'\"]\n"
     ]
    }
   ],
   "source": [
    "for col in df.columns:\n",
    "    n_unique = df[col].unique()\n",
    "    print(f\"{col}: {n_unique}\")"
   ]
  },
  {
   "cell_type": "code",
   "execution_count": 13,
   "metadata": {},
   "outputs": [
    {
     "data": {
      "text/html": [
       "<div>\n",
       "<style scoped>\n",
       "    .dataframe tbody tr th:only-of-type {\n",
       "        vertical-align: middle;\n",
       "    }\n",
       "\n",
       "    .dataframe tbody tr th {\n",
       "        vertical-align: top;\n",
       "    }\n",
       "\n",
       "    .dataframe thead th {\n",
       "        text-align: right;\n",
       "    }\n",
       "</style>\n",
       "<table border=\"1\" class=\"dataframe\">\n",
       "  <thead>\n",
       "    <tr style=\"text-align: right;\">\n",
       "      <th></th>\n",
       "      <th>meonpause</th>\n",
       "      <th>node-caps</th>\n",
       "      <th>breast</th>\n",
       "      <th>breast-quad</th>\n",
       "      <th>irradiat</th>\n",
       "    </tr>\n",
       "  </thead>\n",
       "  <tbody>\n",
       "    <tr>\n",
       "      <th>0</th>\n",
       "      <td>'premeno'</td>\n",
       "      <td>'yes'</td>\n",
       "      <td>'right'</td>\n",
       "      <td>'yes'</td>\n",
       "      <td>'no'</td>\n",
       "    </tr>\n",
       "    <tr>\n",
       "      <th>1</th>\n",
       "      <td>'ge40'</td>\n",
       "      <td>'no'</td>\n",
       "      <td>'right'</td>\n",
       "      <td>'no'</td>\n",
       "      <td>'no'</td>\n",
       "    </tr>\n",
       "    <tr>\n",
       "      <th>2</th>\n",
       "      <td>'ge40'</td>\n",
       "      <td>'no'</td>\n",
       "      <td>'left'</td>\n",
       "      <td>'no'</td>\n",
       "      <td>'no'</td>\n",
       "    </tr>\n",
       "    <tr>\n",
       "      <th>3</th>\n",
       "      <td>'premeno'</td>\n",
       "      <td>'yes'</td>\n",
       "      <td>'right'</td>\n",
       "      <td>'yes'</td>\n",
       "      <td>'yes'</td>\n",
       "    </tr>\n",
       "    <tr>\n",
       "      <th>4</th>\n",
       "      <td>'premeno'</td>\n",
       "      <td>'yes'</td>\n",
       "      <td>'left'</td>\n",
       "      <td>'yes'</td>\n",
       "      <td>'no'</td>\n",
       "    </tr>\n",
       "    <tr>\n",
       "      <th>...</th>\n",
       "      <td>...</td>\n",
       "      <td>...</td>\n",
       "      <td>...</td>\n",
       "      <td>...</td>\n",
       "      <td>...</td>\n",
       "    </tr>\n",
       "    <tr>\n",
       "      <th>281</th>\n",
       "      <td>'ge40'</td>\n",
       "      <td>'yes'</td>\n",
       "      <td>'left'</td>\n",
       "      <td>'yes'</td>\n",
       "      <td>'no'</td>\n",
       "    </tr>\n",
       "    <tr>\n",
       "      <th>282</th>\n",
       "      <td>'premeno'</td>\n",
       "      <td>'yes'</td>\n",
       "      <td>'left'</td>\n",
       "      <td>'yes'</td>\n",
       "      <td>'yes'</td>\n",
       "    </tr>\n",
       "    <tr>\n",
       "      <th>283</th>\n",
       "      <td>'premeno'</td>\n",
       "      <td>'yes'</td>\n",
       "      <td>'right'</td>\n",
       "      <td>'yes'</td>\n",
       "      <td>'no'</td>\n",
       "    </tr>\n",
       "    <tr>\n",
       "      <th>284</th>\n",
       "      <td>'premeno'</td>\n",
       "      <td>'no'</td>\n",
       "      <td>'right'</td>\n",
       "      <td>'no'</td>\n",
       "      <td>'no'</td>\n",
       "    </tr>\n",
       "    <tr>\n",
       "      <th>285</th>\n",
       "      <td>'ge40'</td>\n",
       "      <td>'no'</td>\n",
       "      <td>'left'</td>\n",
       "      <td>'no'</td>\n",
       "      <td>'no'</td>\n",
       "    </tr>\n",
       "  </tbody>\n",
       "</table>\n",
       "<p>286 rows × 5 columns</p>\n",
       "</div>"
      ],
      "text/plain": [
       "     meonpause node-caps   breast breast-quad irradiat\n",
       "0    'premeno'     'yes'  'right'       'yes'     'no'\n",
       "1       'ge40'      'no'  'right'        'no'     'no'\n",
       "2       'ge40'      'no'   'left'        'no'     'no'\n",
       "3    'premeno'     'yes'  'right'       'yes'    'yes'\n",
       "4    'premeno'     'yes'   'left'       'yes'     'no'\n",
       "..         ...       ...      ...         ...      ...\n",
       "281     'ge40'     'yes'   'left'       'yes'     'no'\n",
       "282  'premeno'     'yes'   'left'       'yes'    'yes'\n",
       "283  'premeno'     'yes'  'right'       'yes'     'no'\n",
       "284  'premeno'      'no'  'right'        'no'     'no'\n",
       "285     'ge40'      'no'   'left'        'no'     'no'\n",
       "\n",
       "[286 rows x 5 columns]"
      ]
     },
     "execution_count": 13,
     "metadata": {},
     "output_type": "execute_result"
    }
   ],
   "source": [
    "non_ran_features = ['meonpause', 'node-caps', 'breast', 'breast-quad', 'irradiat']\n",
    "df[non_ran_features]"
   ]
  },
  {
   "cell_type": "code",
   "execution_count": 14,
   "metadata": {},
   "outputs": [
    {
     "data": {
      "text/html": [
       "<div>\n",
       "<style scoped>\n",
       "    .dataframe tbody tr th:only-of-type {\n",
       "        vertical-align: middle;\n",
       "    }\n",
       "\n",
       "    .dataframe tbody tr th {\n",
       "        vertical-align: top;\n",
       "    }\n",
       "\n",
       "    .dataframe thead th {\n",
       "        text-align: right;\n",
       "    }\n",
       "</style>\n",
       "<table border=\"1\" class=\"dataframe\">\n",
       "  <thead>\n",
       "    <tr style=\"text-align: right;\">\n",
       "      <th></th>\n",
       "      <th>ages</th>\n",
       "      <th>tumor-size</th>\n",
       "      <th>inv-nodes</th>\n",
       "      <th>deg-malig</th>\n",
       "    </tr>\n",
       "  </thead>\n",
       "  <tbody>\n",
       "    <tr>\n",
       "      <th>0</th>\n",
       "      <td>'40-49'</td>\n",
       "      <td>'15-19'</td>\n",
       "      <td>'0-2'</td>\n",
       "      <td>'3'</td>\n",
       "    </tr>\n",
       "    <tr>\n",
       "      <th>1</th>\n",
       "      <td>'50-59'</td>\n",
       "      <td>'15-19'</td>\n",
       "      <td>'0-2'</td>\n",
       "      <td>'1'</td>\n",
       "    </tr>\n",
       "    <tr>\n",
       "      <th>2</th>\n",
       "      <td>'50-59'</td>\n",
       "      <td>'35-39'</td>\n",
       "      <td>'0-2'</td>\n",
       "      <td>'2'</td>\n",
       "    </tr>\n",
       "    <tr>\n",
       "      <th>3</th>\n",
       "      <td>'40-49'</td>\n",
       "      <td>'35-39'</td>\n",
       "      <td>'0-2'</td>\n",
       "      <td>'3'</td>\n",
       "    </tr>\n",
       "    <tr>\n",
       "      <th>4</th>\n",
       "      <td>'40-49'</td>\n",
       "      <td>'30-34'</td>\n",
       "      <td>'3-5'</td>\n",
       "      <td>'2'</td>\n",
       "    </tr>\n",
       "    <tr>\n",
       "      <th>...</th>\n",
       "      <td>...</td>\n",
       "      <td>...</td>\n",
       "      <td>...</td>\n",
       "      <td>...</td>\n",
       "    </tr>\n",
       "    <tr>\n",
       "      <th>281</th>\n",
       "      <td>'50-59'</td>\n",
       "      <td>'30-34'</td>\n",
       "      <td>'6-8'</td>\n",
       "      <td>'2'</td>\n",
       "    </tr>\n",
       "    <tr>\n",
       "      <th>282</th>\n",
       "      <td>'50-59'</td>\n",
       "      <td>'25-29'</td>\n",
       "      <td>'3-5'</td>\n",
       "      <td>'2'</td>\n",
       "    </tr>\n",
       "    <tr>\n",
       "      <th>283</th>\n",
       "      <td>'30-39'</td>\n",
       "      <td>'30-34'</td>\n",
       "      <td>'6-8'</td>\n",
       "      <td>'2'</td>\n",
       "    </tr>\n",
       "    <tr>\n",
       "      <th>284</th>\n",
       "      <td>'50-59'</td>\n",
       "      <td>'15-19'</td>\n",
       "      <td>'0-2'</td>\n",
       "      <td>'2'</td>\n",
       "    </tr>\n",
       "    <tr>\n",
       "      <th>285</th>\n",
       "      <td>'50-59'</td>\n",
       "      <td>'40-44'</td>\n",
       "      <td>'0-2'</td>\n",
       "      <td>'3'</td>\n",
       "    </tr>\n",
       "  </tbody>\n",
       "</table>\n",
       "<p>286 rows × 4 columns</p>\n",
       "</div>"
      ],
      "text/plain": [
       "        ages tumor-size inv-nodes deg-malig\n",
       "0    '40-49'    '15-19'     '0-2'       '3'\n",
       "1    '50-59'    '15-19'     '0-2'       '1'\n",
       "2    '50-59'    '35-39'     '0-2'       '2'\n",
       "3    '40-49'    '35-39'     '0-2'       '3'\n",
       "4    '40-49'    '30-34'     '3-5'       '2'\n",
       "..       ...        ...       ...       ...\n",
       "281  '50-59'    '30-34'     '6-8'       '2'\n",
       "282  '50-59'    '25-29'     '3-5'       '2'\n",
       "283  '30-39'    '30-34'     '6-8'       '2'\n",
       "284  '50-59'    '15-19'     '0-2'       '2'\n",
       "285  '50-59'    '40-44'     '0-2'       '3'\n",
       "\n",
       "[286 rows x 4 columns]"
      ]
     },
     "execution_count": 14,
     "metadata": {},
     "output_type": "execute_result"
    }
   ],
   "source": [
    "rank_features = ['ages', 'tumor-size', 'inv-nodes', 'deg-malig']\n",
    "df[rank_features]"
   ]
  },
  {
   "cell_type": "code",
   "execution_count": 20,
   "metadata": {},
   "outputs": [],
   "source": [
    "transformer = ColumnTransformer(\n",
    "    transformers = [\n",
    "        (\"OneHot\", OneHotEncoder(drop='first'), non_ran_features),\n",
    "        (\"Ordinal\", OrdinalEncoder(), rank_features)\n",
    "    ],\n",
    "    remainder = 'passthrough'\n",
    ")\n",
    "X_transformed = transformer.fit_transform(X)"
   ]
  },
  {
   "cell_type": "markdown",
   "metadata": {},
   "source": [
    "Như vậy ta đã encode xong các thuộc tính. Để có thể quan sát dữ liệu sau khi encode\n",
    "một cách trực quan, ta sẽ biến đổi biến X_transformed thành DataFrame như sau:"
   ]
  },
  {
   "cell_type": "code",
   "execution_count": 21,
   "metadata": {},
   "outputs": [],
   "source": [
    "onehot_features = transformer.named_transformers_['OneHot'].get_feature_names(non_ran_features)\n",
    "all_features = onehot_features.tolist() + rank_features"
   ]
  },
  {
   "cell_type": "code",
   "execution_count": 22,
   "metadata": {},
   "outputs": [],
   "source": [
    "X_encoded = pd.DataFrame(\n",
    "    X_transformed, \n",
    "    columns=all_features\n",
    ")"
   ]
  },
  {
   "cell_type": "code",
   "execution_count": 23,
   "metadata": {},
   "outputs": [
    {
     "data": {
      "text/html": [
       "<div>\n",
       "<style scoped>\n",
       "    .dataframe tbody tr th:only-of-type {\n",
       "        vertical-align: middle;\n",
       "    }\n",
       "\n",
       "    .dataframe tbody tr th {\n",
       "        vertical-align: top;\n",
       "    }\n",
       "\n",
       "    .dataframe thead th {\n",
       "        text-align: right;\n",
       "    }\n",
       "</style>\n",
       "<table border=\"1\" class=\"dataframe\">\n",
       "  <thead>\n",
       "    <tr style=\"text-align: right;\">\n",
       "      <th></th>\n",
       "      <th>meonpause_'lt40'</th>\n",
       "      <th>meonpause_'premeno'</th>\n",
       "      <th>node-caps_'yes'</th>\n",
       "      <th>breast_'right'</th>\n",
       "      <th>breast-quad_'yes'</th>\n",
       "      <th>irradiat_'yes'</th>\n",
       "      <th>ages</th>\n",
       "      <th>tumor-size</th>\n",
       "      <th>inv-nodes</th>\n",
       "      <th>deg-malig</th>\n",
       "    </tr>\n",
       "  </thead>\n",
       "  <tbody>\n",
       "    <tr>\n",
       "      <th>0</th>\n",
       "      <td>0.0</td>\n",
       "      <td>1.0</td>\n",
       "      <td>1.0</td>\n",
       "      <td>1.0</td>\n",
       "      <td>1.0</td>\n",
       "      <td>0.0</td>\n",
       "      <td>2.0</td>\n",
       "      <td>2.0</td>\n",
       "      <td>0.0</td>\n",
       "      <td>2.0</td>\n",
       "    </tr>\n",
       "    <tr>\n",
       "      <th>1</th>\n",
       "      <td>0.0</td>\n",
       "      <td>0.0</td>\n",
       "      <td>0.0</td>\n",
       "      <td>1.0</td>\n",
       "      <td>0.0</td>\n",
       "      <td>0.0</td>\n",
       "      <td>3.0</td>\n",
       "      <td>2.0</td>\n",
       "      <td>0.0</td>\n",
       "      <td>0.0</td>\n",
       "    </tr>\n",
       "    <tr>\n",
       "      <th>2</th>\n",
       "      <td>0.0</td>\n",
       "      <td>0.0</td>\n",
       "      <td>0.0</td>\n",
       "      <td>0.0</td>\n",
       "      <td>0.0</td>\n",
       "      <td>0.0</td>\n",
       "      <td>3.0</td>\n",
       "      <td>6.0</td>\n",
       "      <td>0.0</td>\n",
       "      <td>1.0</td>\n",
       "    </tr>\n",
       "    <tr>\n",
       "      <th>3</th>\n",
       "      <td>0.0</td>\n",
       "      <td>1.0</td>\n",
       "      <td>1.0</td>\n",
       "      <td>1.0</td>\n",
       "      <td>1.0</td>\n",
       "      <td>1.0</td>\n",
       "      <td>2.0</td>\n",
       "      <td>6.0</td>\n",
       "      <td>0.0</td>\n",
       "      <td>2.0</td>\n",
       "    </tr>\n",
       "    <tr>\n",
       "      <th>4</th>\n",
       "      <td>0.0</td>\n",
       "      <td>1.0</td>\n",
       "      <td>1.0</td>\n",
       "      <td>0.0</td>\n",
       "      <td>1.0</td>\n",
       "      <td>0.0</td>\n",
       "      <td>2.0</td>\n",
       "      <td>5.0</td>\n",
       "      <td>4.0</td>\n",
       "      <td>1.0</td>\n",
       "    </tr>\n",
       "    <tr>\n",
       "      <th>...</th>\n",
       "      <td>...</td>\n",
       "      <td>...</td>\n",
       "      <td>...</td>\n",
       "      <td>...</td>\n",
       "      <td>...</td>\n",
       "      <td>...</td>\n",
       "      <td>...</td>\n",
       "      <td>...</td>\n",
       "      <td>...</td>\n",
       "      <td>...</td>\n",
       "    </tr>\n",
       "    <tr>\n",
       "      <th>281</th>\n",
       "      <td>0.0</td>\n",
       "      <td>0.0</td>\n",
       "      <td>1.0</td>\n",
       "      <td>0.0</td>\n",
       "      <td>1.0</td>\n",
       "      <td>0.0</td>\n",
       "      <td>3.0</td>\n",
       "      <td>5.0</td>\n",
       "      <td>5.0</td>\n",
       "      <td>1.0</td>\n",
       "    </tr>\n",
       "    <tr>\n",
       "      <th>282</th>\n",
       "      <td>0.0</td>\n",
       "      <td>1.0</td>\n",
       "      <td>1.0</td>\n",
       "      <td>0.0</td>\n",
       "      <td>1.0</td>\n",
       "      <td>1.0</td>\n",
       "      <td>3.0</td>\n",
       "      <td>4.0</td>\n",
       "      <td>4.0</td>\n",
       "      <td>1.0</td>\n",
       "    </tr>\n",
       "    <tr>\n",
       "      <th>283</th>\n",
       "      <td>0.0</td>\n",
       "      <td>1.0</td>\n",
       "      <td>1.0</td>\n",
       "      <td>1.0</td>\n",
       "      <td>1.0</td>\n",
       "      <td>0.0</td>\n",
       "      <td>1.0</td>\n",
       "      <td>5.0</td>\n",
       "      <td>5.0</td>\n",
       "      <td>1.0</td>\n",
       "    </tr>\n",
       "    <tr>\n",
       "      <th>284</th>\n",
       "      <td>0.0</td>\n",
       "      <td>1.0</td>\n",
       "      <td>0.0</td>\n",
       "      <td>1.0</td>\n",
       "      <td>0.0</td>\n",
       "      <td>0.0</td>\n",
       "      <td>3.0</td>\n",
       "      <td>2.0</td>\n",
       "      <td>0.0</td>\n",
       "      <td>1.0</td>\n",
       "    </tr>\n",
       "    <tr>\n",
       "      <th>285</th>\n",
       "      <td>0.0</td>\n",
       "      <td>0.0</td>\n",
       "      <td>0.0</td>\n",
       "      <td>0.0</td>\n",
       "      <td>0.0</td>\n",
       "      <td>0.0</td>\n",
       "      <td>3.0</td>\n",
       "      <td>7.0</td>\n",
       "      <td>0.0</td>\n",
       "      <td>2.0</td>\n",
       "    </tr>\n",
       "  </tbody>\n",
       "</table>\n",
       "<p>286 rows × 10 columns</p>\n",
       "</div>"
      ],
      "text/plain": [
       "     meonpause_'lt40'  meonpause_'premeno'  node-caps_'yes'  breast_'right'  \\\n",
       "0                 0.0                  1.0              1.0             1.0   \n",
       "1                 0.0                  0.0              0.0             1.0   \n",
       "2                 0.0                  0.0              0.0             0.0   \n",
       "3                 0.0                  1.0              1.0             1.0   \n",
       "4                 0.0                  1.0              1.0             0.0   \n",
       "..                ...                  ...              ...             ...   \n",
       "281               0.0                  0.0              1.0             0.0   \n",
       "282               0.0                  1.0              1.0             0.0   \n",
       "283               0.0                  1.0              1.0             1.0   \n",
       "284               0.0                  1.0              0.0             1.0   \n",
       "285               0.0                  0.0              0.0             0.0   \n",
       "\n",
       "     breast-quad_'yes'  irradiat_'yes'  ages  tumor-size  inv-nodes  deg-malig  \n",
       "0                  1.0             0.0   2.0         2.0        0.0        2.0  \n",
       "1                  0.0             0.0   3.0         2.0        0.0        0.0  \n",
       "2                  0.0             0.0   3.0         6.0        0.0        1.0  \n",
       "3                  1.0             1.0   2.0         6.0        0.0        2.0  \n",
       "4                  1.0             0.0   2.0         5.0        4.0        1.0  \n",
       "..                 ...             ...   ...         ...        ...        ...  \n",
       "281                1.0             0.0   3.0         5.0        5.0        1.0  \n",
       "282                1.0             1.0   3.0         4.0        4.0        1.0  \n",
       "283                1.0             0.0   1.0         5.0        5.0        1.0  \n",
       "284                0.0             0.0   3.0         2.0        0.0        1.0  \n",
       "285                0.0             0.0   3.0         7.0        0.0        2.0  \n",
       "\n",
       "[286 rows x 10 columns]"
      ]
     },
     "metadata": {},
     "output_type": "display_data"
    }
   ],
   "source": [
    "display(X_encoded)"
   ]
  },
  {
   "cell_type": "markdown",
   "metadata": {},
   "source": [
    "(c) Encode label: Label của bộ dữ liệu gồm có hai giá trị (class) là \"recurrence-events\"\n",
    "và \"no-recurrence-events\". Tương tự như categorical features, ta cũng cần phải đưa\n",
    "label này về dạng số. Trong sklearn, ta có LabelEncoder() chuyên dùng để encode các\n",
    "label. Cách sử dụng như sau:"
   ]
  },
  {
   "cell_type": "code",
   "execution_count": 24,
   "metadata": {},
   "outputs": [],
   "source": [
    "label_encoder = LabelEncoder()\n",
    "y_encoded = label_encoder.fit_transform(y)"
   ]
  },
  {
   "cell_type": "code",
   "execution_count": 25,
   "metadata": {},
   "outputs": [
    {
     "data": {
      "text/plain": [
       "array([1, 0, 1, 0, 1, 0, 0, 0, 0, 0, 0, 0, 0, 0, 1, 0, 0, 0, 0, 0, 1, 0,\n",
       "       0, 0, 1, 0, 0, 0, 0, 1, 1, 0, 0, 0, 1, 0, 0, 0, 0, 0, 1, 0, 0, 1,\n",
       "       0, 1, 0, 0, 0, 0, 1, 0, 0, 0, 0, 0, 0, 0, 0, 1, 1, 0, 0, 1, 1, 0,\n",
       "       0, 0, 1, 0, 1, 0, 0, 1, 1, 0, 0, 0, 1, 0, 0, 0, 0, 0, 0, 0, 0, 0,\n",
       "       0, 0, 1, 1, 1, 0, 0, 0, 1, 0, 1, 1, 1, 1, 0, 0, 0, 1, 1, 1, 0, 0,\n",
       "       0, 0, 0, 0, 0, 0, 1, 0, 0, 0, 1, 0, 0, 1, 0, 0, 0, 0, 1, 0, 0, 0,\n",
       "       1, 1, 0, 1, 0, 0, 1, 0, 1, 0, 1, 0, 0, 0, 1, 0, 0, 0, 1, 0, 0, 1,\n",
       "       0, 0, 1, 1, 0, 0, 0, 0, 0, 0, 1, 1, 1, 0, 0, 0, 1, 1, 0, 1, 0, 0,\n",
       "       0, 1, 1, 0, 0, 1, 0, 1, 0, 0, 0, 1, 0, 0, 1, 0, 1, 0, 0, 0, 1, 0,\n",
       "       0, 1, 0, 0, 0, 0, 0, 1, 0, 1, 1, 0, 1, 1, 0, 0, 0, 0, 1, 0, 1, 0,\n",
       "       0, 0, 0, 0, 1, 0, 0, 0, 0, 1, 0, 0, 0, 0, 0, 1, 0, 1, 1, 1, 1, 0,\n",
       "       0, 0, 0, 0, 0, 0, 0, 0, 1, 0, 0, 0, 0, 1, 0, 1, 0, 1, 0, 0, 0, 1,\n",
       "       0, 0, 0, 1, 0, 0, 1, 1, 0, 0, 0, 0, 0, 0, 0, 0, 0, 0, 0, 0, 0, 0])"
      ]
     },
     "metadata": {},
     "output_type": "display_data"
    }
   ],
   "source": [
    "display(y_encoded)"
   ]
  },
  {
   "cell_type": "markdown",
   "metadata": {},
   "source": [
    "(d) Normalization: Cuối cùng, để thuận tiện trong việc training, ta cũng áp dụng kỹ thuật\n",
    "chuẩn hóa dữ liệu vào các thuộc tính X như sau:"
   ]
  },
  {
   "cell_type": "code",
   "execution_count": 45,
   "metadata": {},
   "outputs": [],
   "source": [
    "normalizer = StandardScaler()\n",
    "X_normalized = normalizer.fit_transform(X_encoded)"
   ]
  },
  {
   "cell_type": "markdown",
   "metadata": {},
   "source": [
    "5. Chia tập dữ liệu train, val: Sau khi hoàn tất tiền xử lý, ta bắt đầu phân chia tập dữ liệu\n",
    "ban đầu thành hai tập con. Một tập \"train\" dùng cho việc huấn luyện mô hình, một tập\n",
    "\"val\" dùng để đánh giá mô hình sau khi train. Tỉ lệ chia ở đây sẽ là 7:3."
   ]
  },
  {
   "cell_type": "code",
   "execution_count": 48,
   "metadata": {},
   "outputs": [],
   "source": [
    "test_size = 0.3\n",
    "random_state = 1\n",
    "is_shuffle = True\n",
    "X_train, X_val, y_train, y_val = train_test_split(\n",
    "    X_normalized, y_encoded,\n",
    "    test_size=test_size,\n",
    "    random_state=random_state,\n",
    "    shuffle=is_shuffle\n",
    ")"
   ]
  },
  {
   "cell_type": "markdown",
   "metadata": {},
   "source": [
    "#### 6. Huấn luyện mô hình: Ta huấn luyện mô hình SVM trên tập train:"
   ]
  },
  {
   "cell_type": "code",
   "execution_count": 49,
   "metadata": {},
   "outputs": [
    {
     "data": {
      "text/plain": [
       "SVC(random_state=1)"
      ]
     },
     "execution_count": 49,
     "metadata": {},
     "output_type": "execute_result"
    }
   ],
   "source": [
    "classifier = SVC(\n",
    "    random_state=random_state\n",
    ")\n",
    "classifier.fit(X_train, y_train)"
   ]
  },
  {
   "cell_type": "markdown",
   "metadata": {},
   "source": [
    "#### 7. Đánh giá mô hình: \n",
    "Với mô hình đã huấn luyện, ta sẽ kiểm tra hiệu năng của nó thông qua\n",
    "đánh giá trên tập val:"
   ]
  },
  {
   "cell_type": "code",
   "execution_count": 50,
   "metadata": {},
   "outputs": [
    {
     "name": "stdout",
     "output_type": "stream",
     "text": [
      "Evaluation results on validation set:\n",
      "Accuract: 0.6744186046511628\n"
     ]
    }
   ],
   "source": [
    "y_pred = classifier.predict(X_val)\n",
    "scores = accuracy_score(y_pred, y_val)\n",
    "\n",
    "print('Evaluation results on validation set:')\n",
    "print(f'Accuract: {scores}')"
   ]
  },
  {
   "cell_type": "markdown",
   "metadata": {},
   "source": [
    "# Support Vector Regression (SVR):"
   ]
  },
  {
   "cell_type": "markdown",
   "metadata": {},
   "source": [
    "1. Tải bộ dữ liệu: \n",
    "Các bạn tải bộ dữ liệu auto-insurance.csv tại [đây](https://drive.google.com/file/d/1PhfXJRPWHFGlcVOz_OCOM80SOUWzEmk5/view?usp=drive_link)."
   ]
  },
  {
   "cell_type": "code",
   "execution_count": 52,
   "metadata": {},
   "outputs": [
    {
     "name": "stdout",
     "output_type": "stream",
     "text": [
      "--2023-09-26 21:28:17--  http://1phfxjrpwhfglcvoz_ocom80souwzemk5/\n",
      "Resolving 1phfxjrpwhfglcvoz_ocom80souwzemk5 (1phfxjrpwhfglcvoz_ocom80souwzemk5)... failed: Name or service not known.\n",
      "wget: unable to resolve host address ‘1phfxjrpwhfglcvoz_ocom80souwzemk5’\n"
     ]
    }
   ],
   "source": [
    "# https://drive.google.com/file/d/1PhfXJRPWHFGlcVOz_OCOM80SOUWzEmk5/view?usp=drive_link\n",
    "!wget 1PhfXJRPWHFGlcVOz_OCOM80SOUWzEmk5"
   ]
  },
  {
   "cell_type": "markdown",
   "metadata": {},
   "source": [
    "#### 2. Import các thư viện cần thiết:"
   ]
  },
  {
   "cell_type": "code",
   "execution_count": 26,
   "metadata": {},
   "outputs": [],
   "source": [
    "import numpy as np\n",
    "import pandas as pd\n",
    "import matplotlib.pyplot as plt\n",
    "\n",
    "from sklearn.svm import SVR\n",
    "from sklearn.preprocessing import StandardScaler\n",
    "from sklearn.model_selection import train_test_split\n",
    "from sklearn.metrics import mean_absolute_error, mean_squared_error"
   ]
  },
  {
   "cell_type": "markdown",
   "metadata": {},
   "source": [
    "#### 3. Đọc bộ dữ liệu: Sử dụng pandas, các bạn đọc dữ liệu từ file .csv như sau:"
   ]
  },
  {
   "cell_type": "code",
   "execution_count": 27,
   "metadata": {},
   "outputs": [],
   "source": [
    "dataset_path = 'auto-insurance.csv'\n",
    "df = pd.read_csv(dataset_path, names=['n_claims', 'total_payment'])"
   ]
  },
  {
   "cell_type": "code",
   "execution_count": 28,
   "metadata": {},
   "outputs": [
    {
     "name": "stdout",
     "output_type": "stream",
     "text": [
      "<class 'pandas.core.frame.DataFrame'>\n",
      "RangeIndex: 63 entries, 0 to 62\n",
      "Data columns (total 2 columns):\n",
      " #   Column         Non-Null Count  Dtype  \n",
      "---  ------         --------------  -----  \n",
      " 0   n_claims       63 non-null     int64  \n",
      " 1   total_payment  63 non-null     float64\n",
      "dtypes: float64(1), int64(1)\n",
      "memory usage: 1.1 KB\n"
     ]
    }
   ],
   "source": [
    "df.info()"
   ]
  },
  {
   "cell_type": "code",
   "execution_count": 31,
   "metadata": {},
   "outputs": [
    {
     "data": {
      "image/png": "[encoded data removed]",
      "text/plain": [
       "<Figure size 432x288 with 1 Axes>"
      ]
     },
     "metadata": {
      "needs_background": "light"
     },
     "output_type": "display_data"
    }
   ],
   "source": [
    "plt.scatter(df['n_claims'], df['total_payment'], color=\"green\")\n",
    "plt.title(\"Auto Insurence Dataset\")\n",
    "plt.xlabel(\"Number of claims\")\n",
    "plt.ylabel('Total payment')\n",
    "plt.show()"
   ]
  },
  {
   "cell_type": "markdown",
   "metadata": {},
   "source": [
    "#### 4. Chuẩn hóa dữ liệu (Normalization): \n",
    "Đối với bộ dữ liệu này, công việc tiền xử lý trở nên\n",
    "nhẹ nhàng hơn khi ta chỉ cần áp dụng bước chuẩn hóa. Như vậy, ta làm như sau:"
   ]
  },
  {
   "cell_type": "code",
   "execution_count": 32,
   "metadata": {},
   "outputs": [],
   "source": [
    "normalizer = StandardScaler()\n",
    "df_normalized = normalizer.fit_transform(df)"
   ]
  },
  {
   "cell_type": "markdown",
   "metadata": {},
   "source": [
    "#### 5. Chia bộ dữ liệu train, val: \n",
    "Ta tách bộ dữ liệu ban đầu thành hai tập con train và val như\n",
    "sau:"
   ]
  },
  {
   "cell_type": "code",
   "execution_count": 34,
   "metadata": {},
   "outputs": [],
   "source": [
    "X , y = df_normalized[:, 0], df_normalized[:, 1]\n",
    "X = X.reshape(-1, 1)\n",
    "\n",
    "test_size = 0.3\n",
    "random_state = 1\n",
    "is_shuffle = True\n",
    "X_train, X_val, y_train, y_val = train_test_split(\n",
    "    X, y,\n",
    "    test_size=test_size,\n",
    "    random_state=random_state,\n",
    "    shuffle=is_shuffle\n",
    ")"
   ]
  },
  {
   "cell_type": "markdown",
   "metadata": {},
   "source": [
    "#### 6. Huấn luyện mô hình: \n",
    "Ta huấn luyện mô hình SVM trên tập train đã chia:"
   ]
  },
  {
   "cell_type": "code",
   "execution_count": 35,
   "metadata": {},
   "outputs": [
    {
     "data": {
      "text/plain": [
       "SVR()"
      ]
     },
     "execution_count": 35,
     "metadata": {},
     "output_type": "execute_result"
    }
   ],
   "source": [
    "regressor = SVR()\n",
    "regressor.fit(X_train, y_train)"
   ]
  },
  {
   "cell_type": "markdown",
   "metadata": {},
   "source": [
    "#### 7. Đánh giá mô hình: \n",
    "Để kiểm tra độ chính xác của mô hình đã huấn luyện, ta sẽ đánh giá\n",
    "nó trên tập val như sau:"
   ]
  },
  {
   "cell_type": "code",
   "execution_count": 37,
   "metadata": {},
   "outputs": [
    {
     "name": "stdout",
     "output_type": "stream",
     "text": [
      "Evaluation results on validation set : \n",
      " Mean Absolute Error : 0.4549655045116023\n",
      " Mean Squared Error : 0.5406791138567528 \n"
     ]
    }
   ],
   "source": [
    "y_pred = regressor.predict(X_val)\n",
    "mae = mean_absolute_error(y_pred, y_val)\n",
    "mse = mean_squared_error(y_pred, y_val)\n",
    "\n",
    "print('Evaluation results on validation set : ')\n",
    "print(f' Mean Absolute Error : { mae }')\n",
    "print(f' Mean Squared Error : { mse } ')"
   ]
  },
  {
   "cell_type": "code",
   "execution_count": null,
   "metadata": {},
   "outputs": [],
   "source": []
  }
 ],
 "metadata": {
  "kernelspec": {
   "display_name": "minh_env",
   "language": "python",
   "name": "python3"
  },
  "language_info": {
   "codemirror_mode": {
    "name": "ipython",
    "version": 3
   },
   "file_extension": ".py",
   "mimetype": "text/x-python",
   "name": "python",
   "nbconvert_exporter": "python",
   "pygments_lexer": "ipython3",
   "version": "3.6.13"
  },
  "orig_nbformat": 4
 },
 "nbformat": 4,
 "nbformat_minor": 2
}
