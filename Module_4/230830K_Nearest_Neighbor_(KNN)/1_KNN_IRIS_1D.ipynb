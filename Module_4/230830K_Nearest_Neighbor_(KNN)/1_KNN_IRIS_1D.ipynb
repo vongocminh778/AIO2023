{
  "cells": [
    {
      "cell_type": "code",
      "execution_count": 1,
      "metadata": {
        "id": "YmrOOwroJHU6"
      },
      "outputs": [
        {
          "name": "stderr",
          "output_type": "stream",
          "text": [
            "\n",
            "Bad key \"text.kerning_factor\" on line 4 in\n",
            "/home/minhmap/anaconda3/envs/minh_env/lib/python3.6/site-packages/matplotlib/mpl-data/stylelib/_classic_test_patch.mplstyle.\n",
            "You probably need to get an updated matplotlibrc file from\n",
            "http://github.com/matplotlib/matplotlib/blob/master/matplotlibrc.template\n",
            "or from the matplotlib source distribution\n"
          ]
        }
      ],
      "source": [
        "import numpy as np\n",
        "import matplotlib.pyplot as plt\n",
        "from sklearn import neighbors, datasets\n",
        "import pandas as pd"
      ]
    },
    {
      "cell_type": "code",
      "execution_count": 2,
      "metadata": {
        "colab": {
          "base_uri": "https://localhost:8080/",
          "height": 238
        },
        "id": "66Mp3i2yJbdY",
        "outputId": "1181ca51-4298-4b52-dd53-56d6b699c98f"
      },
      "outputs": [
        {
          "data": {
            "text/html": [
              "<div>\n",
              "<style scoped>\n",
              "    .dataframe tbody tr th:only-of-type {\n",
              "        vertical-align: middle;\n",
              "    }\n",
              "\n",
              "    .dataframe tbody tr th {\n",
              "        vertical-align: top;\n",
              "    }\n",
              "\n",
              "    .dataframe thead th {\n",
              "        text-align: right;\n",
              "    }\n",
              "</style>\n",
              "<table border=\"1\" class=\"dataframe\">\n",
              "  <thead>\n",
              "    <tr style=\"text-align: right;\">\n",
              "      <th></th>\n",
              "      <th>Petal_Length</th>\n",
              "      <th>Label</th>\n",
              "    </tr>\n",
              "  </thead>\n",
              "  <tbody>\n",
              "    <tr>\n",
              "      <th>0</th>\n",
              "      <td>1.4</td>\n",
              "      <td>0.0</td>\n",
              "    </tr>\n",
              "    <tr>\n",
              "      <th>1</th>\n",
              "      <td>1.0</td>\n",
              "      <td>0.0</td>\n",
              "    </tr>\n",
              "    <tr>\n",
              "      <th>2</th>\n",
              "      <td>1.5</td>\n",
              "      <td>0.0</td>\n",
              "    </tr>\n",
              "    <tr>\n",
              "      <th>3</th>\n",
              "      <td>3.1</td>\n",
              "      <td>1.0</td>\n",
              "    </tr>\n",
              "    <tr>\n",
              "      <th>4</th>\n",
              "      <td>3.8</td>\n",
              "      <td>1.0</td>\n",
              "    </tr>\n",
              "    <tr>\n",
              "      <th>5</th>\n",
              "      <td>4.1</td>\n",
              "      <td>1.0</td>\n",
              "    </tr>\n",
              "  </tbody>\n",
              "</table>\n",
              "</div>"
            ],
            "text/plain": [
              "   Petal_Length  Label\n",
              "0           1.4    0.0\n",
              "1           1.0    0.0\n",
              "2           1.5    0.0\n",
              "3           3.1    1.0\n",
              "4           3.8    1.0\n",
              "5           4.1    1.0"
            ]
          },
          "execution_count": 2,
          "metadata": {},
          "output_type": "execute_result"
        }
      ],
      "source": [
        "data = pd.read_csv(\"./iris_1D.csv\")\n",
        "data"
      ]
    },
    {
      "cell_type": "code",
      "execution_count": 3,
      "metadata": {
        "colab": {
          "base_uri": "https://localhost:8080/"
        },
        "id": "d5SlcfKtKULN",
        "outputId": "bdb47780-0c82-464a-bc6b-766442644808"
      },
      "outputs": [],
      "source": [
        "# data[\"Petal_Length\"].to_numpy().shape\n",
        "# print(data[\"Petal_Length\"].to_numpy())"
      ]
    },
    {
      "cell_type": "code",
      "execution_count": 4,
      "metadata": {
        "colab": {
          "base_uri": "https://localhost:8080/"
        },
        "id": "TV0PhgEwJzqa",
        "outputId": "d028c98e-8fa4-4084-fac3-de8ffd0acaa3"
      },
      "outputs": [
        {
          "name": "stdout",
          "output_type": "stream",
          "text": [
            "[[1.4]\n",
            " [1. ]\n",
            " [1.5]\n",
            " [3.1]\n",
            " [3.8]\n",
            " [4.1]]\n"
          ]
        }
      ],
      "source": [
        "# get x\n",
        "x_data = data[\"Petal_Length\"].to_numpy()\n",
        "x_data = x_data.reshape(6, 1) # change (6, ) --> (6, 1)\n",
        "print(x_data)"
      ]
    },
    {
      "cell_type": "code",
      "execution_count": 5,
      "metadata": {
        "colab": {
          "base_uri": "https://localhost:8080/"
        },
        "id": "XU1iVg-oKFR3",
        "outputId": "c4fa8203-29c2-41e3-d391-92211a58aee2"
      },
      "outputs": [
        {
          "name": "stdout",
          "output_type": "stream",
          "text": [
            "[0. 0. 0. 1. 1. 1.]\n"
          ]
        }
      ],
      "source": [
        "# get y\n",
        "y_data = data[\"Label\"].to_numpy()\n",
        "print(y_data)"
      ]
    },
    {
      "cell_type": "code",
      "execution_count": 6,
      "metadata": {
        "id": "39xh9pQmKxwJ"
      },
      "outputs": [],
      "source": [
        "# unknown input\n",
        "x_test = [[2.4]]"
      ]
    },
    {
      "cell_type": "markdown",
      "metadata": {
        "id": "uNeR6WooLTR4"
      },
      "source": [
        "# Cách 1:"
      ]
    },
    {
      "cell_type": "code",
      "execution_count": 7,
      "metadata": {
        "colab": {
          "base_uri": "https://localhost:8080/",
          "height": 75
        },
        "id": "QHTxgZXTKzuZ",
        "outputId": "e6f66daa-a041-4a60-b7d9-0ebe5ba25680"
      },
      "outputs": [
        {
          "data": {
            "text/plain": [
              "KNeighborsClassifier(n_neighbors=3)"
            ]
          },
          "execution_count": 7,
          "metadata": {},
          "output_type": "execute_result"
        }
      ],
      "source": [
        "# get model\n",
        "from sklearn.neighbors import KNeighborsClassifier\n",
        "\n",
        "classifier = KNeighborsClassifier(n_neighbors=3)\n",
        "classifier.fit(x_data, y_data)"
      ]
    },
    {
      "cell_type": "code",
      "execution_count": 8,
      "metadata": {
        "colab": {
          "base_uri": "https://localhost:8080/"
        },
        "id": "TpiyC3OdLGjq",
        "outputId": "11266823-011d-4da8-f945-fe07502a4731"
      },
      "outputs": [
        {
          "name": "stdout",
          "output_type": "stream",
          "text": [
            "[0.]\n"
          ]
        }
      ],
      "source": [
        "y_pred = classifier.predict(x_test)\n",
        "print(y_pred)"
      ]
    },
    {
      "cell_type": "markdown",
      "metadata": {
        "id": "p1Az1046LWjQ"
      },
      "source": [
        "# Cách 2:"
      ]
    },
    {
      "cell_type": "code",
      "execution_count": 9,
      "metadata": {
        "colab": {
          "base_uri": "https://localhost:8080/",
          "height": 75
        },
        "id": "0lqikVtnLPeK",
        "outputId": "8e06a94a-0e94-45e5-85cc-53a50b03bf8e"
      },
      "outputs": [
        {
          "data": {
            "text/plain": [
              "KNeighborsClassifier(n_neighbors=6)"
            ]
          },
          "execution_count": 9,
          "metadata": {},
          "output_type": "execute_result"
        }
      ],
      "source": [
        "# get model\n",
        "from sklearn.neighbors import KNeighborsClassifier\n",
        "\n",
        "classifier = KNeighborsClassifier(n_neighbors=6)\n",
        "classifier.fit(x_data, y_data)"
      ]
    },
    {
      "cell_type": "markdown",
      "metadata": {
        "id": "GNwMJOphMdjN"
      },
      "source": [
        "#### Sử dụng phương thức .kneighbors(x_test) để trả về khoảng cách và chỉ số của các hàng xóm gần nhất."
      ]
    },
    {
      "cell_type": "code",
      "execution_count": 10,
      "metadata": {
        "colab": {
          "base_uri": "https://localhost:8080/"
        },
        "id": "fmRQNZjFLxFr",
        "outputId": "a07d256c-d0f5-4d22-81bd-05112eb21967"
      },
      "outputs": [
        {
          "name": "stdout",
          "output_type": "stream",
          "text": [
            "(array([[0.7, 0.9, 1. , 1.4, 1.4, 1.7]]), array([[3, 2, 0, 1, 4, 5]]))\n"
          ]
        }
      ],
      "source": [
        "y_pred = classifier.kneighbors(x_test)\n",
        "print(y_pred)"
      ]
    },
    {
      "cell_type": "code",
      "execution_count": 11,
      "metadata": {
        "colab": {
          "base_uri": "https://localhost:8080/"
        },
        "id": "x39RvnCkL6w8",
        "outputId": "e92f8bbe-f27c-42a3-af0d-c386beaf823c"
      },
      "outputs": [
        {
          "data": {
            "text/plain": [
              "1.0"
            ]
          },
          "execution_count": 11,
          "metadata": {},
          "output_type": "execute_result"
        }
      ],
      "source": [
        "classifier.classes_[classifier._y[3]]"
      ]
    },
    {
      "cell_type": "code",
      "execution_count": 12,
      "metadata": {
        "colab": {
          "base_uri": "https://localhost:8080/"
        },
        "id": "fDqd4jgvMHdd",
        "outputId": "d0b7c1db-a2cf-42cb-8ca0-a52ddfcb6766"
      },
      "outputs": [
        {
          "name": "stdout",
          "output_type": "stream",
          "text": [
            "Cách tiếp cận 1 (C1):\n",
            "Dự đoán (C1): [1 1]\n",
            "\n",
            "Cách tiếp cận 2 (C2):\n",
            "Điểm test 1:\n",
            "Khoảng cách đến hàng xóm gần nhất: [0.20089848 0.27154335 0.31542388]\n",
            "Chỉ số hàng xóm gần nhất: [52 53 69]\n",
            "Nhãn dự đoán: [1 1 1]\n",
            "\n",
            "Điểm test 2:\n",
            "Khoảng cách đến hàng xóm gần nhất: [0.1140306  0.19039667 0.28694263]\n",
            "Chỉ số hàng xóm gần nhất: [25 21 29]\n",
            "Nhãn dự đoán: [0 1 1]\n",
            "\n"
          ]
        }
      ],
      "source": [
        "import numpy as np\n",
        "from sklearn.datasets import make_classification\n",
        "from sklearn.neighbors import KNeighborsClassifier\n",
        "\n",
        "# Tạo dữ liệu giả lập\n",
        "X, y = make_classification(n_samples=100, n_features=2, n_informative=2, n_redundant=0, random_state=42)\n",
        "\n",
        "# Dữ liệu test\n",
        "x_test = np.array([[1, 1], [0, 0]])\n",
        "\n",
        "# Cách tiếp cận 1 (C1)\n",
        "print(\"Cách tiếp cận 1 (C1):\")\n",
        "classifier_c1 = KNeighborsClassifier(n_neighbors=3)\n",
        "classifier_c1.fit(X, y)\n",
        "y_pred_c1 = classifier_c1.predict(x_test)\n",
        "print(\"Dự đoán (C1):\", y_pred_c1)\n",
        "print()\n",
        "\n",
        "# Cách tiếp cận 2 (C2)\n",
        "print(\"Cách tiếp cận 2 (C2):\")\n",
        "classifier_c2 = KNeighborsClassifier(n_neighbors=3)\n",
        "classifier_c2.fit(X, y)\n",
        "distances, indices = classifier_c2.kneighbors(x_test)\n",
        "for i, (dist, ind) in enumerate(zip(distances, indices)):\n",
        "    print(f\"Điểm test {i+1}:\")\n",
        "    print(\"Khoảng cách đến hàng xóm gần nhất:\", dist)\n",
        "    print(\"Chỉ số hàng xóm gần nhất:\", ind)\n",
        "    predicted_label = classifier_c2.classes_[classifier_c2._y[ind]]\n",
        "    print(\"Nhãn dự đoán:\", predicted_label)\n",
        "    print()"
      ]
    },
    {
      "cell_type": "code",
      "execution_count": null,
      "metadata": {
        "id": "qw8mnJl-M2if"
      },
      "outputs": [],
      "source": []
    }
  ],
  "metadata": {
    "colab": {
      "provenance": []
    },
    "kernelspec": {
      "display_name": "Python 3",
      "name": "python3"
    },
    "language_info": {
      "codemirror_mode": {
        "name": "ipython",
        "version": 3
      },
      "file_extension": ".py",
      "mimetype": "text/x-python",
      "name": "python",
      "nbconvert_exporter": "python",
      "pygments_lexer": "ipython3",
      "version": "3.6.13"
    }
  },
  "nbformat": 4,
  "nbformat_minor": 0
}
